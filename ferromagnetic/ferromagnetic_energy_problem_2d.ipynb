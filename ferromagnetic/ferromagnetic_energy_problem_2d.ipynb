{
 "cells": [
  {
   "cell_type": "markdown",
   "id": "MWae-PDwhdjQ",
   "metadata": {
    "id": "MWae-PDwhdjQ"
   },
   "source": [
    "# Энергия ферромагнетика (2D)"
   ]
  },
  {
   "cell_type": "markdown",
   "id": "MHGZR8BwhdjS",
   "metadata": {
    "id": "MHGZR8BwhdjS"
   },
   "source": [
    "### Условие задачи\n",
    "\n",
    "**Дано:**\n",
    "- двумерная решетка молекул, расположенных в узлах кристаллической решетки, размеров $L_x \\times L_y$ с периодическими границами\n",
    "- каждая молекула обладает спином +1 или -1\n",
    "- межмолекулярное взаимодействие описывается константами $J_{ij} = 1$\n",
    "- модель Изинга\n",
    "\n",
    "\n",
    "**Требуется:**\n",
    "- согласно модели Изинга рассчитать среднюю энергию $\\langle E \\rangle$ для указанной цепочки молекул при:\n",
    "    - размерах решетки $L_x \\in [2, 3, ..., 8]$, $L_y = 4$\n",
    "    - температурах $kT \\in [1, 1.1, ..., 5.0]$\n",
    "- сохранить массив средних энергий при помощи `np.save`\n",
    "- вывести время расчета каждой итерации по $Lx$ или по $k T$\n",
    "- отобразить цветовую карту:\n",
    "    - ось абсцисс - $L_x$,\n",
    "    - ось ординат - $k T$,\n",
    "    - цветом отобразить нормированное значение средней энергии $\\frac{\\langle E \\rangle}{Lx Ly}$,\n",
    "    - подписать оси,\n",
    "    - отобразить цветовую шкалу (`colorbar`),\n",
    "    - засечки должны соответствовать значениям $Lx, kT$.\n",
    "- к каждой функции добавить `docstring` с описанием того, что функция делает, всех параметров и возвращаемого значения    \n",
    "\n",
    "**Описание:**\n",
    "\n",
    "**Одномерный случай**\n",
    "\n",
    "Модель Изинга является моделью магнетика. Пусть этот магнетик состоит из молекул, расположенных в узлах регулярной решетки. Пусть всего таких узлов будет $N$ штук, с индексами $i=1,\\ldots, N$.\n",
    "\n",
    "Предположим, что каждая молекула может быть представлена в виде магнитной стрелки, которая всегда либо направлена вдоль некоторой заданной оси, либо в противоположном направлении. То есть каждая молекула $i$ имеет две конфигурации, которые можно описывать с помощью \"спиновой\" переменной $\\sigma_i$. Эта переменная принимает значение $+1$ (параллельно оси, спин направлен вверх) и $-1$ (антипараллельно оси, спин направлен вниз).\n",
    "\n",
    "Пусть $\\sigma = \\{\\sigma_1, \\sigma_2, \\ldots, \\sigma_N\\}$ обозначает набор значений всех $N$ спинов. Имеется $2^N$ различных наборов $\\sigma$, и каждый из них описывает некоторое состояние системы. \n",
    "\n",
    "Гамильтониан системы  состоит из двух частей: первая $E_0$ включает вклад межмолекулярных сил внутри магнетика, а вторая $E_1(\\sigma)$ вклад от взаимодействий каждого спина с внешним магнитным полем (здесь считается нулевым). \n",
    "$$H(\\sigma)=E_0(\\sigma)+E_1(\\sigma)$$\n",
    "\n",
    "В любой физической системе мы предполагаем все взаимодействия инвариантными по отношению к обращению времени, что означает инвариантность $E$ при изменении знаков всех полей и намагниченностей. Энергия должна быть четной функцией от $\\sigma$:\n",
    "$$E_0(\\sigma_1,\\ldots, \\sigma_N)=E_0(-\\sigma_1,\\ldots, -\\sigma_N)$$\n",
    "\n",
    "Энергия системы при нулевом внешнем магнитном поле равна сумме произведений **соседних** спинов на константы взаимодействия $J_{ij}$\n",
    "$$E(\\sigma) = -\\sum_{i} J_{i,i+1}\\sigma_{i}\\sigma_{i+1} $$\n",
    "\n",
    "Вероятность находиться в состоянии $\\sigma$\n",
    "$$P(\\sigma)=\\frac{e^{-\\beta E(\\sigma)}}{Z},$$\n",
    "\tгде $Z = \\sum_{\\sigma} e^{-\\beta E(\\sigma)}-$ статистическая сумма, $\\beta = \\frac{1}{k T}-$ обратная температура, $k-$ константа Больцмана.\n",
    "\t\n",
    "Средняя энергия системы \n",
    "$$\\langle E \\rangle = \\frac{1}{Z}\\sum_{\\{\\sigma \\}} E(\\sigma)e^{-\\frac{E(\\sigma)}{kT}}$$\n",
    "рассчитывается по всевозможным состояниям системы, т.е. всевозможным наборам $\\sigma$.\n",
    "\n",
    "**Двумерный случай**\n",
    "\n",
    "В случае двумерной решетки энергия системы при нулевом внешнем магнитном поле вычисляется следующим образом: \n",
    "$$E(\\sigma) = -\\sum_{i,j} J_{ij}(\\sigma_{i,j}\\sigma_{i+1,j} + \\sigma_{i,j}\\sigma_{i,j+1})$$\n",
    "\n",
    "\n",
    "**Проверка корректности результатов**\n",
    "\n",
    "Средняя энергия для $L_x=4$ при температурах $kT \\in [1, 1.1, ..., 5.0]$:\n",
    "\n",
    "```\n",
    "[-1.99715844 -1.99396091 -1.98856632 -1.98016965 -1.96786355 -1.95064256\n",
    " -1.9274244  -1.89711215 -1.85871667 -1.81153907 -1.75538029 -1.69071311\n",
    " -1.61874282 -1.54131149 -1.46065977 -1.37911648 -1.29880759 -1.22145424\n",
    " -1.14828469 -1.0800446  -1.01706963 -0.95938399 -0.90679838 -0.85899291\n",
    " -0.8155803  -0.77615005 -0.74029707 -0.70763857 -0.67782287 -0.65053286\n",
    " -0.62548613 -0.60243323 -0.58115501 -0.56145948 -0.5431787  -0.52616582\n",
    " -0.5102923  -0.49544555 -0.48152673 -0.46844889]\n",
    "```\n",
    "\n",
    "\n",
    "**Материалы:**\n",
    "- [Бэкстер Р., Вольский Е. П., Дайхин Л. И. Точно решаемые модели в статистической механике](https://yadi.sk/i/2oY4c0bL08pNiw)\n",
    "- [Пример хорошего `docstring`](https://github.com/numpy/numpy/blob/v1.21.0/numpy/linalg/linalg.py#L313-L395)\n",
    "- [Зиннуров Б.Д., Якименко В.Я. Магнитные свойства модели Изинга в низких размерностях (МКР)](https://miem.hse.ru/data/2018/05/24/1149431665/model_Izinga_-_Zinnurov_Yakimenko.pdf)\n",
    "\n",
    "\n",
    "**Правила оценивания:**\n",
    "\n",
    "- оценка за корректно выполненный расчет для количества молекул в цепочке $L_x$, баллов из 100:\n",
    "```\n",
    "    Lx    =   2,   3,   4,   5,    6,    7,     8\n",
    "    g(Lx) = 1.0, 1.8, 3.3, 6.4, 12.6, 24.9,  50.0\n",
    "```\n",
    "    \n",
    "- штрафы $p(i)$, баллов:\n",
    "    - не выведено время расчета - 20\n",
    "    - не выведены значения средней энергии - 20\n",
    "    - не построена карта - 20\n",
    "    - отсутствует `docstring` - 20\n",
    "    - менее значимые недоработки - 10\n",
    "\n",
    "\n",
    "- итоговая оценка за задание = $\\sum_{Lx=2}^{8}{g(Lx)} - \\sum_{i}{p(i)}$\n"
   ]
  },
  {
   "cell_type": "code",
   "execution_count": 1,
   "id": "fcN75U6EklOK",
   "metadata": {
    "id": "fcN75U6EklOK"
   },
   "outputs": [],
   "source": [
    "import numpy as np\n",
    "import matplotlib.pyplot as plt\n",
    "import typing\n",
    "import time\n",
    "\n",
    "from numba import njit, prange, objmode"
   ]
  },
  {
   "cell_type": "code",
   "execution_count": 2,
   "id": "ame8GrwV445m",
   "metadata": {
    "id": "ame8GrwV445m"
   },
   "outputs": [],
   "source": [
    "@njit(parallel=True)\n",
    "def izing_model_energy(Lx, Ly, T):\n",
    "    \"\"\"\n",
    "    Compute average energy of Izing Model system, using Monte-Carlo approach,\n",
    "    for a set of parameters Lx, Ly (grid size in integers) and T (kT, Boltzman\n",
    "    constant by temperature in K).\n",
    "    ------------------------\n",
    "    Description:\n",
    "    Energy for the grid spin configuration is computed by formula:\n",
    "    E = sum(- J[i,j] * grid[i,j] * (grid[i+1,j] + grid[i,j+1])\n",
    "    Mean energy is the expected value of energy for all possible 2^(Lx*Ly)\n",
    "    configurations of model grid with probabilities:\n",
    "    P(grid) = e^(-E/kT) / Z, where Z is:\n",
    "    Z = sum(e^(-E/kT)) - by all E values.\n",
    "    Mean energy is normed by grid size Lx * Ly.\n",
    "    ------------------------\n",
    "    Param:  Lx - integer value of Lx for grid size;\n",
    "            Ly - integer value of Ly for grid size;\n",
    "            T_array - float value of T, parameter of the model.\n",
    "    ------------------------\n",
    "    Return: energy - float value of mean normed energy in the model\n",
    "    ------------------------\n",
    "    Example:\n",
    "    >>> izing_model_energy(4, 4, 1.0)\n",
    "    -1.9971584402565936\n",
    "\n",
    "    \"\"\"\n",
    "    N = Lx * Ly\n",
    "    unscaled_energies = np.zeros(2**N)\n",
    "    probs = np.zeros(2**N)\n",
    "    for k in prange(2**N):\n",
    "        E, J = 0, 1\n",
    "        spins = np.empty(N, dtype=np.int8)\n",
    "        flag = np.int64(k)\n",
    "        for index in range(N):\n",
    "            if flag & 1 == 0:\n",
    "                spins[index] = -1\n",
    "            else:\n",
    "                spins[index] = 1\n",
    "            flag = flag >> 1\n",
    "        spins = spins.reshape(Lx, Ly)\n",
    "        for i in range(-1, Lx-1):\n",
    "            for j in range(-1, Ly-1):\n",
    "                E -= spins[i, j] * (spins[i, j + 1] + spins[i + 1, j]) * J\n",
    "        prob = np.exp(- E / T)\n",
    "        unscaled_energies[k] = E\n",
    "        probs[k] = prob\n",
    "    probs /= np.sum(probs)\n",
    "    return np.sum(probs * unscaled_energies) * (1 / (Lx * Ly))"
   ]
  },
  {
   "cell_type": "code",
   "execution_count": 3,
   "id": "FDKHk6jXnYos",
   "metadata": {
    "id": "FDKHk6jXnYos"
   },
   "outputs": [],
   "source": [
    "@njit(parallel=True)\n",
    "def parameter_izing_model_energy(Lx_array: np.ndarray,\n",
    "                                 Ly: int,\n",
    "                                 T_array: np.ndarray,\n",
    "                                 ):\n",
    "    \"\"\"\n",
    "    Compute average energy of Izing Model system, using Monte-Carlo approach,\n",
    "    for all parameter configurations, making a grid of all Lx and T values.\n",
    "    ------------------------\n",
    "    Description:\n",
    "    Energy for the grid spin configuration is computed by formula:\n",
    "    E = sum(- J[i,j] * grid[i,j] * (grid[i+1,j] + grid[i,j+1])\n",
    "    Mean energy is the expected value of energy for all possible 2^(Lx*Ly)\n",
    "    configurations of model grid with probabilities:\n",
    "    P(grid) = e^(-E/kT) / Z, where Z is:\n",
    "    Z = sum(e^(-E/kT)) - by all E values.\n",
    "    Mean energies are normed by grid size Lx * Ly.\n",
    "    After every iterations on Lx parameter the elapsed time in seconds\n",
    "    is printed in stdout.\n",
    "    ------------------------\n",
    "    Param:  Lx_array - 1D array of Lx values for grid size, shape (N, );\n",
    "            Ly - integer value of Ly for grid size;\n",
    "            T_array - 1D array of kT values for computations, shape (M, );\n",
    "    ------------------------\n",
    "    Return: energies - 2D array of mean normed energies for Izing Models\n",
    "            shape (N, M)\n",
    "    ------------------------\n",
    "    Example:\n",
    "    >>> Lx_array = np.arange(2, 4, 1).astype(int)\n",
    "    >>> T_array = np.arange(1, 2.1, 0.1)\n",
    "    >>> Ly = 2\n",
    "    >>> parameter_izing_model_energy(Lx_array, Ly, T_array)\n",
    "    array([[-1.99598209, -1.99170205, -1.98483772, -1.97479989, -1.96114384,\n",
    "            -1.94360627, -1.92211527, -1.89677817, -1.86785426, -1.83571893,\n",
    "            -1.80082536],\n",
    "          [-1.99582582, -1.99124282, -1.98371777, -1.97243779, -1.95670686,\n",
    "            -1.93602166, -1.91012278, -1.87901623, -1.84296444, -1.80245113,\n",
    "            -1.75812762]])\n",
    "\n",
    "    \"\"\"\n",
    "    energies = np.zeros((len(Lx_array), len(T_array)))\n",
    "    for Lx_index in range(len(Lx_array)):\n",
    "        with objmode(start='f8'):\n",
    "            start = time.time()\n",
    "        for T_index in range(len(T_array)):\n",
    "            Lx = Lx_array[Lx_index]\n",
    "            T = T_array[T_index]\n",
    "            N = Lx * Ly\n",
    "            unscaled_energies = np.empty(2**N)\n",
    "            probs = np.empty(2**N)\n",
    "            for k in prange(2**N):\n",
    "                E, J = 0, 1\n",
    "                spins = np.empty(N, dtype=np.int8)\n",
    "                flag = np.int64(k)\n",
    "                for index in range(N):\n",
    "                    if flag & 1 == 0:\n",
    "                        spins[index] = -1\n",
    "                    else:\n",
    "                        spins[index] = 1\n",
    "                    flag = flag >> 1\n",
    "                spins = spins.reshape(Lx, Ly)\n",
    "                for i in range(-1, Lx-1):\n",
    "                    for j in range(-1, Ly-1):\n",
    "                        E -= spins[i, j] * (spins[i, j + 1] + spins[i + 1, j]) * J\n",
    "                prob = np.exp(- E / T)\n",
    "                unscaled_energies[k] = E\n",
    "                probs[k] = prob\n",
    "            probs /= np.sum(probs)\n",
    "            energies[Lx_index, T_index] = np.sum(probs * unscaled_energies) * (1 / (Lx * Ly))\n",
    "        with objmode():\n",
    "             print(time.time() - start, 'seconds elapsed on Lx =', Lx)\n",
    "    return energies"
   ]
  },
  {
   "cell_type": "code",
   "execution_count": 4,
   "id": "eOo5yHfw_m6j",
   "metadata": {
    "id": "eOo5yHfw_m6j"
   },
   "outputs": [],
   "source": [
    "?parameter_izing_model_energy"
   ]
  },
  {
   "cell_type": "code",
   "execution_count": 5,
   "id": "34SZ_s2DxPIA",
   "metadata": {
    "colab": {
     "base_uri": "https://localhost:8080/"
    },
    "id": "34SZ_s2DxPIA",
    "outputId": "3899ca76-e17d-4790-c452-53d9d9f61918"
   },
   "outputs": [
    {
     "data": {
      "text/plain": [
       "-1.9971584402559248"
      ]
     },
     "execution_count": 5,
     "metadata": {},
     "output_type": "execute_result"
    }
   ],
   "source": [
    "izing_model_energy(4, 4, 1.0)"
   ]
  },
  {
   "cell_type": "code",
   "execution_count": null,
   "id": "a3dArRBS_WRw",
   "metadata": {
    "colab": {
     "base_uri": "https://localhost:8080/"
    },
    "id": "a3dArRBS_WRw",
    "outputId": "e7f135af-9e48-47d3-8a5b-1eae87852787",
    "pycharm": {
     "is_executing": true
    }
   },
   "outputs": [
    {
     "name": "stdout",
     "output_type": "stream",
     "text": [
      "0.015327930450439453 seconds elapsed on Lx = 2\n",
      "0.0179290771484375 seconds elapsed on Lx = 3\n",
      "0.040827274322509766 seconds elapsed on Lx = 4\n",
      "0.5701661109924316 seconds elapsed on Lx = 5\n",
      "6.822809934616089 seconds elapsed on Lx = 6\n",
      "133.04842329025269 seconds elapsed on Lx = 7\n"
     ]
    }
   ],
   "source": [
    "Lx_array = np.arange(2, 9, 1).astype(int)\n",
    "T_array = np.arange(1, 5.1, 0.1)\n",
    "Ly = 4\n",
    "\n",
    "fresh_energzy = parameter_izing_model_energy(Lx_array, Ly, T_array)\n",
    "np.save('part_energy.npy', fresh_energy)"
   ]
  },
  {
   "cell_type": "code",
   "execution_count": 22,
   "id": "9b7d32b0",
   "metadata": {},
   "outputs": [
    {
     "data": {
      "text/plain": [
       "(5, 41)"
      ]
     },
     "execution_count": 22,
     "metadata": {},
     "output_type": "execute_result"
    }
   ],
   "source": [
    "fresh_energy = np.load('energy.npy') # рассчитаное на всю"
   ]
  },
  {
   "cell_type": "code",
   "execution_count": null,
   "id": "hayqjgrA5I0H",
   "metadata": {
    "id": "hayqjgrA5I0H",
    "pycharm": {
     "is_executing": true
    }
   },
   "outputs": [],
   "source": [
    "Lx_array = np.arange(2, 9, 1).astype(int)\n",
    "T_array = np.arange(1, 5.1, 0.1)\n",
    "Ly = 4\n",
    "\n",
    "plt.figure(figsize=(10, 10))\n",
    "plt.pcolormesh(Lx_array, T_array, fresh_energy)\n",
    "plt.xlabel('Lx', fontsize=14)\n",
    "plt.ylabel('kT', fontsize=14)\n",
    "plt.xticks(Lx_array)\n",
    "plt.yticks(T_array)\n",
    "plt.colorbar()\n",
    "plt.title('Цветовая карта нормированной средней энергии', fontsize=14)\n",
    "plt.show()"
   ]
  },
  {
   "cell_type": "code",
   "execution_count": null,
   "id": "3e4a95f5",
   "metadata": {
    "pycharm": {
     "name": "#%%\n"
    }
   },
   "outputs": [],
   "source": []
  }
 ],
 "metadata": {
  "colab": {
   "provenance": []
  },
  "kernelspec": {
   "display_name": "Python 3 (ipykernel)",
   "language": "python",
   "name": "python3"
  },
  "language_info": {
   "codemirror_mode": {
    "name": "ipython",
    "version": 3
   },
   "file_extension": ".py",
   "mimetype": "text/x-python",
   "name": "python",
   "nbconvert_exporter": "python",
   "pygments_lexer": "ipython3",
   "version": "3.10.7"
  }
 },
 "nbformat": 4,
 "nbformat_minor": 5
}
