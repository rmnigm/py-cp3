{
 "cells": [
  {
   "cell_type": "markdown",
   "id": "e28e8964",
   "metadata": {},
   "source": [
    "# Неустойчивые орбиты вокруг точки $L_1$\n",
    "в круговой ограниченной задаче трех тел"
   ]
  },
  {
   "cell_type": "markdown",
   "id": "f1f6dea8",
   "metadata": {},
   "source": [
    "### Условие задачи\n",
    "\n",
    "\n",
    "**Дано:**\n",
    "- движение невесомого тела в системе из двух массивных тел, вращающихся относительно общего центра масс, описывается системой уравнений:\n",
    "\n",
    "$\\begin{cases}\n",
    "\\ddot{x} - 2\\dot{y} = \\frac{\\partial{U}}{\\partial{x}} \\\\\n",
    "\\ddot{y} + 2\\dot{x} = \\frac{\\partial{U}}{\\partial{y}} \\\\\n",
    "\\ddot{z} = \\frac{\\partial{U}}{\\partial{z}} \\\\\n",
    "U = \\frac{1}{2} (x^2 + y^2) + \\frac{\\mu_1}{r_1} + \\frac{\\mu_2}{r_2} \\\\\n",
    "r^2_1 = (x + \\mu_2)^2 + y^2 + z^2 \\\\\n",
    "r^2_2 = (x - \\mu_1)^2 + y^2 + z^2\n",
    "\\end{cases}$\n",
    "\n",
    "- методы Рунге-Кутты для интегрирования систем ОДУ первого порядка, рассмотренные на семинарах\n",
    "- константы для системы уравнений и метод интегрирования необходимо выбрать самостоятельно в [таблице вариантов](https://docs.google.com/spreadsheets/d/1RvryyiQSz1TTAlwLxOuwmIAaZUZd2cdftZa7yHMPKBw/edit?usp=sharing) так, чтобы не было повторений\n",
    "- алгоритм вычисления начальной скорости для неустойчивой орбиты вокруг $L_1$, рассмотренный на семинаре\n",
    "- библиотека математических алгоритмов [Tracker Component Library](https://github.com/USNavalResearchLaboratory/TrackerComponentLibrary/blob/master/Mathematical_Functions/Differential_Equations/RungeKStep.m)\n",
    "- модули `numba`, `numpy`, `matplotlib`\n",
    "\n",
    "\n",
    "**Требуется:**\n",
    "1. Реализовать обобщенный метод Рунге-Кутты на основе таблицы Бутчера для интегрирования систем ОДУ первого порядка:\n",
    "\n",
    "    - функция для расчета одного шага размера $h$\n",
    "    - функция для расчета $n$ шагов размера $h$ (1)\n",
    "    - подготовить таблицу Бутчера из `Tracker Component Library` (определяется вариантом задания)\n",
    "\n",
    "\n",
    "2. Реализовать алгоритм вычисления начальной скорости для неустойчивой орбиты вокруг $L_1$:\n",
    "\n",
    "    - модификация функции (1) для досрочной остановки интегрирования при условии пересечения одной из плоскостей\n",
    "    - функция для расчета начальной скорости $vy_0$ на основе метода бисекции для орбиты, заданной начальным положением $(x_0, 0, z_0)$ и условием ортогональности вектора скорости и плоскости $XOZ$ в начальный момент времени\n",
    "    \n",
    "        - $d$ = $90\\%$ расстояния от $L_1$ до малого массивного тела \n",
    "        - $x_{left} = x_{L1} - d$ - координата левой плоскости, заданной уравнением $x = x_{left}$\n",
    "        - $x_{right} = x_{L1} + d$ - координата правой плоскости, заданной уравнением $x = x_{right}$\n",
    "\n",
    "\n",
    "3. Реализовать алгоритм вычисления начальных скоростей орбит, начальные состояния которых заданы на решетке:\n",
    "    - $(x_0, z_0) \\in [x_{min}, x_{max}] \\times [z_{min}, z_{max}]$\n",
    "\n",
    "        - $x_{min} = x_{L1} - d / 3$\n",
    "        - $x_{max} = x_{L1} + d / 3$\n",
    "        - $z_{min} = 0.0$\n",
    "        - $z_{max} = d / 3$\n",
    "\n",
    "    - количество узлов на решетке $N \\times N$\n",
    "\n",
    "\n",
    "4. Использовать `@njit`, `@cfunc`, `prange` из модуля `numba` для компиляции всех функций и распараллеливания функции расчета на решетке\n",
    "\n",
    "\n",
    "5. Вычислить начальные скорости и константы Якоби на заданных решетках\n",
    "    - $J = 2 U - v^2$ - формула для вычисления константы Якоби\n",
    "    - $h = \\pi / 180$ - шаг по времени `t`\n",
    "    - $x_{L1}$ - координата точки L1 (см. материалы семинара)\n",
    "    - $[-1.0, 1.0]$ - начальный отрезок для уточнения скоростей методом бисекции (вероятно для некоторых систем этот отрезок не подойдет)\n",
    "\n",
    "\n",
    "6. Измерить время вычислений\n",
    "\n",
    "\n",
    "7. Сохранить результаты вычислений в файлах `*.npy` (функцией `np.save`)\n",
    "\n",
    "\n",
    "8. Построить цветовые карты рассчитанных величин (начальная скорость, константа Якоби):\n",
    "\n",
    "    - карты должны строиться по сохраненным данным, чтобы отрисовку можно было запустить без повторного выполнения расчетов\n",
    "    - засечки по осям должны соответствовать координатам $x, z$, где $x$ отсчитывается относительно $x_{L1}$\n",
    "    - единицы измерений по осям - километры\n",
    "    - оси должны быть подписаны\n",
    "    - должен присутствовать `colorbar`\n",
    "    - должен присутствовать заголовок рисунка\n",
    "\n",
    "\n",
    "9. Задокументировать все реализованные функции\n",
    "\n",
    "\n",
    "**Материалы:**\n",
    "- [Методы Рунге-Кутты](https://ru.wikipedia.org/wiki/Метод_Рунге_—_Кутты)\n",
    "- [Динамика Солнечной Системы](https://disk.yandex.ru/i/HfJaUW2Sm62td)\n",
    "- [Tracker Component Library](https://github.com/USNavalResearchLaboratory/TrackerComponentLibrary/blob/master/Mathematical_Functions/Differential_Equations/RungeKStep.m)\n",
    "- [Mapping of initial conditions for libration point orbits](https://www.dropbox.com/s/wafy1jaylclngbv/Aksenov_ASR.pdf?dl=0)\n",
    "\n",
    "\n",
    "**Правила оценивания:**\n",
    "\n",
    "- оценка за корректно выполненные расчеты на решетке размером $(N, N)$:\n",
    "```\n",
    "      i  =  1   2    3    4\n",
    "    N(i) = 40  80  160  320\n",
    "    g(i) =  1  16   33   50\n",
    "```\n",
    "    \n",
    "- штрафы $p(j)$, баллов:\n",
    "    - нет цветовых карт - 20\n",
    "    - карты построены по временным данным (не сохраненным) - 20\n",
    "    - не сохранены файлы с результатами вычислений - 20\n",
    "    - нет документации функций - 20\n",
    "    - не измерено время вычислений - 10\n",
    "    - менее значимые недоработки - 10\n",
    "\n",
    "- итоговая оценка за задание = $\\sum_{i}g(i) - \\sum_{j}{p(j)}$"
   ]
  },
  {
   "cell_type": "code",
   "execution_count": 1,
   "id": "9fa72267",
   "metadata": {},
   "outputs": [],
   "source": [
    "from itertools import product\n",
    "\n",
    "import numpy as np\n",
    "import numba as nb\n",
    "import matplotlib.pyplot as plt\n",
    "from scipy.optimize import newton\n",
    "\n",
    "jkw = dict(cache=True)"
   ]
  },
  {
   "cell_type": "markdown",
   "id": "cc0ee73b",
   "metadata": {},
   "source": [
    "### Runge-Kutta General\n",
    "$\\begin{cases}\n",
    "\\vec{k}_1 = \\vec{f}(t_n, \\vec{s}_n) \\\\\n",
    "\\vec{k}_2 = \\vec{f}(t_n + c_2 h, \\vec{s}_n + a_{2,1} h \\vec{k}_1) \\\\\n",
    "\\vec{k}_3 = \\vec{f}(t_n + c_3 h, \\vec{s}_n + a_{3,1} h \\vec{k}_1 + a_{3,2} h \\vec{k}_2) \\\\\n",
    "... \\\\\n",
    "\\vec{k}_s = \\vec{f}(t_n + c_s h, \\vec{s}_n + a_{s,1} h \\vec{k}_1 + a_{s,2} h \\vec{k}_2 + ... + a_{s,s-1} h \\vec{k}_{s-1}) \\\\\n",
    "\\vec{s}_{n+1} = \\vec{s}_n + h \\sum_{i=1}^{s} b_i \\vec{k_i}\n",
    "\\end{cases}\n",
    "$\n",
    "\n",
    "$\n",
    "{\\displaystyle {\\begin{array}{c|ccccc}0&&&&&\\\\c_{2}&a_{21}&&&&\\\\c_{3}&a_{31}&a_{32}&&&\\\\\\vdots &\\vdots &\\vdots &\\ddots &&\\\\c_{s}&a_{s1}&a_{s2}&\\dots &a_{ss-1}&\\\\\\hline &b_{1}&b_{2}&\\dots &b_{s-1}&b_{s}\\end{array}}}\n",
    "$"
   ]
  },
  {
   "cell_type": "markdown",
   "id": "c127b051",
   "metadata": {},
   "source": [
    "####  RK4 from seminar"
   ]
  },
  {
   "cell_type": "code",
   "execution_count": 2,
   "id": "9e7c3e54",
   "metadata": {},
   "outputs": [],
   "source": [
    "a = np.array([\n",
    "    [0, 0, 0, 0],\n",
    "    [1/2, 0, 0, 0],\n",
    "    [0, 1/2, 0, 0],\n",
    "    [0, 0, 1, 0],\n",
    "])\n",
    "c = np.array([0, 1/2, 1/2, 1])\n",
    "b = np.array([1, 2, 2, 1]) / 6"
   ]
  },
  {
   "cell_type": "markdown",
   "id": "0319ff9d",
   "metadata": {},
   "source": [
    "#### RK5(4)6M from Dormand and Prince"
   ]
  },
  {
   "cell_type": "code",
   "execution_count": 3,
   "id": "343e374d",
   "metadata": {
    "pycharm": {
     "name": "#%%\n"
    }
   },
   "outputs": [],
   "source": [
    "mc = np.array([3.00245441091035e-06])\n",
    "R = 149600000"
   ]
  },
  {
   "cell_type": "code",
   "execution_count": 4,
   "id": "0de36f80",
   "metadata": {},
   "outputs": [],
   "source": [
    "@nb.cfunc('f8[:](f8, f8[:], f8[:])', **jkw)\n",
    "def crtbp_ode(t, s, mc):\n",
    "    mu2 = mc[0]\n",
    "    mu1 = 1 - mu2\n",
    "\n",
    "    x, y, z, vx, vy, vz = s[:6]\n",
    "\n",
    "    yz2 = y * y + z * z\n",
    "    r13 = ((x + mu2) * (x + mu2) + yz2) ** (-1.5)\n",
    "    r23 = ((x - mu1) * (x - mu1) + yz2) ** (-1.5)\n",
    "\n",
    "    mu12r12 = (mu1 * r13 + mu2 * r23)\n",
    "\n",
    "    ax = 2 * vy + x - (mu1 * (x + mu2) * r13 + mu2 * (x - mu1) * r23)\n",
    "    ay = -2 * vx + y - mu12r12 * y\n",
    "    az = - mu12r12 * z\n",
    "\n",
    "    out = np.array([vx, vy, vz, ax, ay, az])\n",
    "    return out"
   ]
  },
  {
   "cell_type": "code",
   "execution_count": 5,
   "id": "ab37c95e",
   "metadata": {},
   "outputs": [],
   "source": [
    "@nb.njit(**jkw)\n",
    "def rk_step(f, t, s, h, mc):\n",
    "    a = np.array([\n",
    "        [0, 0, 0, 0, 0, 0],\n",
    "        [1/5, 0, 0, 0, 0, 0],\n",
    "        [3/40, 9/40, 0, 0, 0, 0],\n",
    "        [3/10, -9/10, 6/5, 0, 0, 0],\n",
    "        [226/729, -25/27, 880/729, 55/729, 0, 0],\n",
    "        [-181/270, 5/2, -266/297, -91/27, 189/55, 0]\n",
    "    ])\n",
    "    c = np.array([0, 1/5, 3/10, 3/5, 2/3, 1])\n",
    "    b = np.array([19/216, 0, 1000/2079, -125/216, 81/88, 5/56])\n",
    "    size = len(b)\n",
    "    k = np.zeros((size, len(s)))\n",
    "    for i in range(size):\n",
    "        diff = np.zeros(len(s))\n",
    "        for j in range(size):\n",
    "            diff += h * a[i, j] * k[j]\n",
    "        k[i] = f(t + c[i] * h, s + diff, mc)\n",
    "    diff = np.zeros(len(s))\n",
    "    for i in range(size):\n",
    "        diff += b[i] * k[i]\n",
    "    return s + h * diff"
   ]
  },
  {
   "cell_type": "code",
   "execution_count": 6,
   "id": "d3372671",
   "metadata": {},
   "outputs": [],
   "source": [
    "@nb.njit(**jkw)\n",
    "def rk_nsteps(f, t, s, h, mc, n):\n",
    "    arr = np.empty((n + 1, s.shape[0] + 1))\n",
    "    arr[:, 0] = t + h * np.arange(n + 1)\n",
    "    arr[0, 1:] = s\n",
    "\n",
    "    for i in range(n):\n",
    "        arr[i + 1, 1:] = rk_step(f,           # правая часть СОДУ\n",
    "                                 arr[i, 0],   # t_0\n",
    "                                 arr[i, 1:],  # s_0\n",
    "                                 h,           # шаг dt\n",
    "                                 mc)          # параметры модели\n",
    "    return arr\n",
    "\n",
    "\n",
    "@nb.njit(**jkw)\n",
    "def rk_nsteps_plane(f, t, s, h, mc, n, pl):\n",
    "    arr = np.empty((n + 1, s.shape[0] + 1))\n",
    "    arr[:, 0] = t + h * np.arange(n + 1)\n",
    "    arr[0, 1:] = s\n",
    "\n",
    "    for i in range(n):\n",
    "        arr[i + 1, 1:] = rk_step(f,           # правая часть СОДУ\n",
    "                                 arr[i, 0],   # t_0\n",
    "                                 arr[i, 1:],  # s_0\n",
    "                                 h,           # шаг dt\n",
    "                                 mc)          # параметры модели\n",
    "        x = arr[i + 1, 1]\n",
    "        if x < pl[0] or x > pl[1]:\n",
    "            break\n",
    "    return arr[:i + 2]"
   ]
  },
  {
   "cell_type": "code",
   "execution_count": 7,
   "id": "cc4fd4c7",
   "metadata": {},
   "outputs": [
    {
     "data": {
      "text/plain": [
       "1491220.3794059637"
      ]
     },
     "execution_count": 7,
     "metadata": {},
     "output_type": "execute_result"
    }
   ],
   "source": [
    "mu2 = 3.001348389698916e-06\n",
    "mu1 = 1 - mu2\n",
    "R = 149600000\n",
    "mc = np.array([mu2])\n",
    "\n",
    "def g(x: float, mc: np.ndarray) -> float:\n",
    "    s = np.array([x, 0., 0., 0., 0., 0.])\n",
    "    return crtbp_ode(0., s, mc)[3]\n",
    "\n",
    "xL1 = newton(g, 0.75 * mu1, args=(mc,), tol=1e-16)\n",
    "\n",
    "(mu1 - xL1) * R"
   ]
  },
  {
   "cell_type": "code",
   "execution_count": 8,
   "id": "a3b0a944",
   "metadata": {},
   "outputs": [],
   "source": [
    "d = (mu1 - xL1) * 0.99\n",
    "xmin = xL1 - d\n",
    "xmax = xL1 + d\n",
    "h = 0.001721420632103996\n",
    "\n",
    "s0 = np.zeros(6)\n",
    "s0[[0, 2, 4]] = xL1 + d * 0.1, d * 0.1, 0.01\n",
    "\n",
    "arr0 = rk_nsteps(crtbp_ode, 0., s0, h, mc, 450)\n",
    "\n",
    "s0 = np.zeros(6)\n",
    "s0[[0, 2, 4]] = xL1 + d * 0.1, d * 0.1, -0.01\n",
    "\n",
    "arr1 = rk_nsteps(crtbp_ode, 0., s0, h, mc, 450)"
   ]
  },
  {
   "cell_type": "code",
   "execution_count": 9,
   "id": "5b5e868c",
   "metadata": {},
   "outputs": [
    {
     "data": {
      "image/png": "[encoded data removed]",
      "text/plain": [
       "<Figure size 800x500 with 1 Axes>"
      ]
     },
     "metadata": {},
     "output_type": "display_data"
    }
   ],
   "source": [
    "# График на плоскости XOY\n",
    "\n",
    "plt.figure(figsize=(8, 5))\n",
    "\n",
    "# траектории\n",
    "plt.plot(arr0[:, 1], arr0[:, 2], label='$\\dot{y}_0 > \\dot{y}^*$')\n",
    "plt.plot(arr1[:, 1], arr1[:, 2], label='$\\dot{y}_0 < \\dot{y}^*$')\n",
    "\n",
    "# точка L1\n",
    "plt.plot(xL1, 0., 'ok')\n",
    "plt.text(xL1, 0., ' $L_1$')\n",
    "\n",
    "# Земля\n",
    "plt.plot(mu1, 0., 'ok')\n",
    "plt.text(mu1, 0., ' Earth')\n",
    "\n",
    "# Плоскости\n",
    "plt.axvline(xmin, ls='--', color='gray', alpha=0.5)\n",
    "plt.axvline(xmax, ls='--', color='gray', alpha=0.5)\n",
    "\n",
    "# Ось OX\n",
    "plt.axhline(0., ls='--', color='gray', alpha=0.5)\n",
    "\n",
    "plt.legend()\n",
    "\n",
    "plt.xlabel('x, nd')\n",
    "plt.ylabel('y, nd')\n",
    "plt.show()"
   ]
  },
  {
   "cell_type": "code",
   "execution_count": 10,
   "id": "57804b43",
   "metadata": {},
   "outputs": [],
   "source": [
    "@nb.njit(**jkw)\n",
    "def get_plane(vy, f, s, h, mc, n, pl):\n",
    "    s0 = s.copy()\n",
    "    s0[4] = vy\n",
    "    arr = rk_nsteps_plane(f, 0., s0, h, mc, n, pl)\n",
    "    x = arr[-1, 1]\n",
    "    mid = pl.mean()\n",
    "    return -1 if x < mid else 1"
   ]
  },
  {
   "cell_type": "code",
   "execution_count": 11,
   "id": "4c5d9fee",
   "metadata": {},
   "outputs": [],
   "source": [
    "pl = np.array([xmin, xmax])"
   ]
  },
  {
   "cell_type": "code",
   "execution_count": 12,
   "id": "de22a1e4",
   "metadata": {},
   "outputs": [],
   "source": [
    "@nb.njit(**jkw)\n",
    "def bisect(f, a, b, args, xtol):\n",
    "    xmin = a * 1.\n",
    "    xmax = b * 1.\n",
    "    x = (xmax + xmin) / 2.\n",
    "    while abs(xmax - xmin) > 2 * xtol:\n",
    "        x = (xmax + xmin) / 2\n",
    "        xmin_val = f(xmin, *args)\n",
    "        x_val = f(x, *args)\n",
    "        if xmin_val * x_val <= 0:\n",
    "            xmax = x\n",
    "        else:\n",
    "            xmin = x\n",
    "    return (xmax + xmin) / 2"
   ]
  },
  {
   "cell_type": "code",
   "execution_count": 13,
   "id": "9497901a",
   "metadata": {},
   "outputs": [],
   "source": [
    "@nb.njit(**jkw)\n",
    "def bisect(f, a, b, args, xtol, maxiter=100):\n",
    "    xa = a * 1.\n",
    "    xb = b * 1.\n",
    "    fa = f(xa, *args)\n",
    "    dm = xb - xa\n",
    "    for itr in range(maxiter):\n",
    "        dm *= 0.5\n",
    "        xm = xa + dm\n",
    "        fm = f(xm, *args)\n",
    "        if fm * fa >= 0:\n",
    "            xa = xm\n",
    "        if fm == 0 or abs(dm) < xtol:\n",
    "            root = xm\n",
    "            itr += 1\n",
    "            break\n",
    "    return root"
   ]
  },
  {
   "cell_type": "code",
   "execution_count": 14,
   "id": "1d72cac9",
   "metadata": {},
   "outputs": [
    {
     "name": "stderr",
     "output_type": "stream",
     "text": [
      "/Users/rmnigm/Library/Caches/pypoetry/virtualenvs/py-cp3-hgRqsJSf-py3.9/lib/python3.9/site-packages/numba/core/utils.py:612: NumbaExperimentalFeatureWarning: \u001b[1mFirst-class function type feature is experimental\u001b[0m\n",
      "  warnings.warn(\"First-class function type feature is experimental\",\n",
      "/var/folders/r9/5px6351n6fx3yqdywn2tdlqs14pvmr/T/ipykernel_12086/4114901270.py:10: NumbaExperimentalFeatureWarning: \u001b[1m\u001b[1mFirst-class function type feature is experimental\u001b[0m\u001b[0m\n",
      "  fm = f(xm, *args)\n",
      "/var/folders/r9/5px6351n6fx3yqdywn2tdlqs14pvmr/T/ipykernel_12086/4114901270.py:5: NumbaExperimentalFeatureWarning: \u001b[1m\u001b[1mFirst-class function type feature is experimental\u001b[0m\u001b[0m\n",
      "  fa = f(xa, *args)\n",
      "/Users/rmnigm/Library/Caches/pypoetry/virtualenvs/py-cp3-hgRqsJSf-py3.9/lib/python3.9/site-packages/numba/core/utils.py:612: NumbaExperimentalFeatureWarning: \u001b[1mFirst-class function type feature is experimental\u001b[0m\n",
      "  warnings.warn(\"First-class function type feature is experimental\",\n"
     ]
    },
    {
     "data": {
      "text/plain": [
       "-0.005963227693821906"
      ]
     },
     "execution_count": 14,
     "metadata": {},
     "output_type": "execute_result"
    }
   ],
   "source": [
    "s0 = np.zeros(6)\n",
    "s0[[0, 2]] = xL1 + d * 0.1, d * 0.1\n",
    "\n",
    "vy_saddle = bisect(get_plane, -0.02, 0.02, args=(crtbp_ode, s0, h, mc, 100000, pl), xtol=1e-16)\n",
    "vy_saddle"
   ]
  },
  {
   "cell_type": "code",
   "execution_count": 15,
   "id": "fefdd228",
   "metadata": {},
   "outputs": [],
   "source": [
    "def preset_grid(xmin, xmax, zmin, zmax, N):\n",
    "    x_step = (xmax - xmin) / N\n",
    "    z_step = (zmax - zmin) / N\n",
    "    speeds = np.zeros((N, N, 6))\n",
    "    xs = np.arange(xmin, xmax, x_step)\n",
    "    zs = np.arange(zmin, zmax, z_step)\n",
    "    for i in range(N):\n",
    "        for j in range(N):\n",
    "            speeds[i, j][[0, 2]] = xs[i], zs[j]\n",
    "    return speeds\n",
    "\n",
    "\n",
    "@nb.njit(**jkw)\n",
    "def get_speed(f, s, h, mc, n, pl):\n",
    "    return bisect(get_plane, -1, 1, args=(f, s, h, mc, n, pl), xtol=1e-12)\n",
    "\n",
    "\n",
    "@nb.njit(parallel=True)\n",
    "def compute_grid(f, starter_speeds, h, mc, n, pl):\n",
    "    N = len(starter_speeds)\n",
    "    speeds = np.zeros((N, N), dtype=np.float64)\n",
    "    for i in nb.prange(N):\n",
    "        for j in range(N):\n",
    "            s = starter_speeds[i, j].astype(np.float64)\n",
    "            speeds[i, j] = get_speed(f, s, h, mc, n, pl)\n",
    "    return speeds"
   ]
  },
  {
   "cell_type": "code",
   "execution_count": 16,
   "id": "1ac20b26",
   "metadata": {},
   "outputs": [],
   "source": [
    "nb.set_num_threads(8)"
   ]
  },
  {
   "cell_type": "code",
   "execution_count": null,
   "id": "29ee4eb4",
   "metadata": {},
   "outputs": [],
   "source": [
    "h = np.pi / 180"
   ]
  },
  {
   "cell_type": "code",
   "execution_count": null,
   "id": "225ce189",
   "metadata": {},
   "outputs": [
    {
     "name": "stderr",
     "output_type": "stream",
     "text": [
      "/var/folders/r9/5px6351n6fx3yqdywn2tdlqs14pvmr/T/ipykernel_12086/1408856859.py:25: NumbaExperimentalFeatureWarning: \u001b[1m\u001b[1m\u001b[1m\u001b[1mFirst-class function type feature is experimental\u001b[0m\u001b[0m\u001b[0m\u001b[0m\n",
      "  speeds[i, j] = get_speed(f, s, h, mc, n, pl)\n",
      "/var/folders/r9/5px6351n6fx3yqdywn2tdlqs14pvmr/T/ipykernel_12086/1408856859.py:25: NumbaExperimentalFeatureWarning: \u001b[1m\u001b[1m\u001b[1mFirst-class function type feature is experimental\u001b[0m\u001b[0m\u001b[0m\n",
      "  speeds[i, j] = get_speed(f, s, h, mc, n, pl)\n",
      "/var/folders/r9/5px6351n6fx3yqdywn2tdlqs14pvmr/T/ipykernel_12086/1408856859.py:25: NumbaWarning: \u001b[1m\u001b[1mCannot cache compiled function \"get_speed\" as it uses dynamic globals (such as ctypes pointers and large global arrays)\u001b[0m\u001b[0m\n",
      "  speeds[i, j] = get_speed(f, s, h, mc, n, pl)\n"
     ]
    }
   ],
   "source": [
    "grid = preset_grid(xmin, xmax, 0, d/3, 40)\n",
    "res = compute_grid(crtbp_ode, grid, h, mc, 100000, pl)\n",
    "np.save(f'{hash(str(xmin) + str(xmax) + str(0) + str(d/3) + str(40))}.npy', res)"
   ]
  },
  {
   "cell_type": "code",
   "execution_count": null,
   "id": "86dd9f2d",
   "metadata": {},
   "outputs": [],
   "source": []
  }
 ],
 "metadata": {
  "kernelspec": {
   "display_name": "Python 3 (ipykernel)",
   "language": "python",
   "name": "python3"
  },
  "language_info": {
   "codemirror_mode": {
    "name": "ipython",
    "version": 3
   },
   "file_extension": ".py",
   "mimetype": "text/x-python",
   "name": "python",
   "nbconvert_exporter": "python",
   "pygments_lexer": "ipython3",
   "version": "3.9.16"
  }
 },
 "nbformat": 4,
 "nbformat_minor": 5
}
